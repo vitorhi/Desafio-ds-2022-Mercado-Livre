{
 "cells": [
  {
   "cell_type": "markdown",
   "id": "41e9d063-12c1-4468-b3cb-6cc4f08c705d",
   "metadata": {},
   "source": [
    "# Challenge 2\n",
    "\n",
    "¿Cuán rápido puedes ordenar estos\n",
    "productos?"
   ]
  },
  {
   "cell_type": "code",
   "execution_count": 1,
   "id": "976605de-72b4-4a6c-8160-0be69c6a9c71",
   "metadata": {},
   "outputs": [],
   "source": [
    "import pandas as pd\n",
    "import numpy as np\n",
    "import matplotlib.pyplot as plt\n",
    "import seaborn as sns"
   ]
  },
  {
   "cell_type": "code",
   "execution_count": 182,
   "id": "12078ed6-cb89-42e3-b19f-d831cce7f129",
   "metadata": {},
   "outputs": [],
   "source": [
    "df = pd.read_csv('ordenamiento.csv')"
   ]
  },
  {
   "cell_type": "code",
   "execution_count": 3,
   "id": "69e63cce-0a76-4027-8516-d454c54bbb2b",
   "metadata": {},
   "outputs": [
    {
     "data": {
      "text/html": [
       "<div>\n",
       "<style scoped>\n",
       "    .dataframe tbody tr th:only-of-type {\n",
       "        vertical-align: middle;\n",
       "    }\n",
       "\n",
       "    .dataframe tbody tr th {\n",
       "        vertical-align: top;\n",
       "    }\n",
       "\n",
       "    .dataframe thead th {\n",
       "        text-align: right;\n",
       "    }\n",
       "</style>\n",
       "<table border=\"1\" class=\"dataframe\">\n",
       "  <thead>\n",
       "    <tr style=\"text-align: right;\">\n",
       "      <th></th>\n",
       "      <th>item_id</th>\n",
       "      <th>vertical</th>\n",
       "      <th>category</th>\n",
       "      <th>domain</th>\n",
       "      <th>score</th>\n",
       "    </tr>\n",
       "  </thead>\n",
       "  <tbody>\n",
       "    <tr>\n",
       "      <th>0</th>\n",
       "      <td>512208310</td>\n",
       "      <td>CPG</td>\n",
       "      <td>PETS FOOD</td>\n",
       "      <td>MLC-CATS_AND_DOGS_FOODS</td>\n",
       "      <td>0.0272</td>\n",
       "    </tr>\n",
       "    <tr>\n",
       "      <th>1</th>\n",
       "      <td>468513076</td>\n",
       "      <td>CE</td>\n",
       "      <td>ELECTRONICS</td>\n",
       "      <td>MLC-RANGES</td>\n",
       "      <td>0.9256</td>\n",
       "    </tr>\n",
       "    <tr>\n",
       "      <th>2</th>\n",
       "      <td>614337410</td>\n",
       "      <td>CE</td>\n",
       "      <td>ELECTRONICS</td>\n",
       "      <td>MLC-SMART_SPEAKERS</td>\n",
       "      <td>0.8304</td>\n",
       "    </tr>\n",
       "    <tr>\n",
       "      <th>3</th>\n",
       "      <td>634351318</td>\n",
       "      <td>APP &amp; SPORTS</td>\n",
       "      <td>APPAREL</td>\n",
       "      <td>MLC-PANTS</td>\n",
       "      <td>0.0560</td>\n",
       "    </tr>\n",
       "    <tr>\n",
       "      <th>4</th>\n",
       "      <td>528383704</td>\n",
       "      <td>ACC</td>\n",
       "      <td>VEHICULAR MULTIMEDIA</td>\n",
       "      <td>MLC-GPS</td>\n",
       "      <td>0.2334</td>\n",
       "    </tr>\n",
       "  </tbody>\n",
       "</table>\n",
       "</div>"
      ],
      "text/plain": [
       "     item_id      vertical              category                   domain  \\\n",
       "0  512208310           CPG             PETS FOOD  MLC-CATS_AND_DOGS_FOODS   \n",
       "1  468513076            CE           ELECTRONICS               MLC-RANGES   \n",
       "2  614337410            CE           ELECTRONICS       MLC-SMART_SPEAKERS   \n",
       "3  634351318  APP & SPORTS               APPAREL                MLC-PANTS   \n",
       "4  528383704           ACC  VEHICULAR MULTIMEDIA                  MLC-GPS   \n",
       "\n",
       "    score  \n",
       "0  0.0272  \n",
       "1  0.9256  \n",
       "2  0.8304  \n",
       "3  0.0560  \n",
       "4  0.2334  "
      ]
     },
     "execution_count": 3,
     "metadata": {},
     "output_type": "execute_result"
    }
   ],
   "source": [
    "df.head()"
   ]
  },
  {
   "cell_type": "code",
   "execution_count": 228,
   "id": "0a963b70-eebb-45df-8c04-ab00685024a4",
   "metadata": {},
   "outputs": [],
   "source": [
    "def order_dataframe(df):\n",
    "    df = df.sort_values('score', ascending=False).reset_index(drop=True)\n",
    "    index = df.index.to_numpy()\n",
    "    items_ids = df['item_id'].to_list()\n",
    "    indexes_locked = []\n",
    "\n",
    "    # Rules 1 and 2\n",
    "    vertical_counter = 0\n",
    "    domain_counter = 0\n",
    "    last_vertical = None\n",
    "    last_domain = None\n",
    "    for i in range(0, len(index)):\n",
    "        idx = index[i]\n",
    "        mask = True\n",
    "        row = df.loc[idx] \n",
    "        if row['vertical'] == last_vertical:\n",
    "            vertical_counter += 1\n",
    "        else:\n",
    "            vertical_counter = 0\n",
    "        if row['domain'] == last_domain:\n",
    "            domain_counter += 1\n",
    "        else:\n",
    "            domain_counter = 0\n",
    "\n",
    "        if vertical_counter == 1:\n",
    "            mask = mask & (df.iloc[i::]['vertical'] != last_vertical)\n",
    "        if domain_counter == 4:\n",
    "            mask = mask & (df.iloc[i::]['domain'] != last_domain)\n",
    "            \n",
    "        if isinstance(mask, pd.Series):\n",
    "            new_idx = df.iloc[i::][mask].iloc[0].name\n",
    "            index = index[index != new_idx]\n",
    "            index = np.insert(index, i, new_idx)\n",
    "            idx = new_idx\n",
    "\n",
    "        last_vertical = df.loc[idx, 'vertical']\n",
    "        last_domain = df.loc[idx, 'domain']\n",
    "        df = df.reindex(index)\n",
    "\n",
    "    df = df.reset_index(drop=True)\n",
    "    index = df.index.to_numpy()\n",
    "    # Rule 3\n",
    "    if 641416750 in items_ids:\n",
    "        idx = df[df['item_id'] == 641416750].index[0]\n",
    "        indexes_locked.append(2)\n",
    "        index = index[index != idx]\n",
    "        index = np.insert(index, 2, idx)\n",
    "    # Rule 4\n",
    "    if 22351223 in items_ids:\n",
    "        idx = df[df['item_id'] == 22351223].index[0]\n",
    "        indexes_locked.append(5)\n",
    "        index = index[index != idx]\n",
    "        index = np.insert(index, 5, idx)\n",
    "    # Rule 5\n",
    "    # Search for the closest sku in the sorted dataframe to fill 9,10,11 positions\n",
    "    df = df.reindex(index).reset_index(drop=True)\n",
    "    index = df.index.to_numpy()\n",
    "    \n",
    "    indexes_home_decor = df.query(\"category == 'HOME&DECOR'\").index.to_numpy()\n",
    "    indexes_rule5 = np.array([el for el in indexes_home_decor if el not in indexes_locked])\n",
    "    indexes_to_insert = []\n",
    "    # Search for the to the closest HOME&DECOR item for each position\n",
    "    for i in range(8,11):\n",
    "        # Calculate distances\n",
    "        distances = abs(indexes_rule5-i)\n",
    "        index_min_distance = indexes_rule5[np.argmin(distances)]\n",
    "        indexes_to_insert.append(index_min_distance)\n",
    "        # Remove index from the eligible rule 5 list\n",
    "        indexes_rule5 = indexes_rule5[indexes_rule5!=index_min_distance]\n",
    "        \n",
    "    remove_mask = ~np.isin(index, indexes_to_insert)\n",
    "    index = index[remove_mask]\n",
    "    index = np.insert(index, 8, indexes_to_insert)\n",
    "    return df.reindex(index)"
   ]
  },
  {
   "cell_type": "code",
   "execution_count": 230,
   "id": "77e3c953-aa64-48b0-8c87-320dc6e13463",
   "metadata": {},
   "outputs": [
    {
     "name": "stdout",
     "output_type": "stream",
     "text": [
      "Wall time: 9.02 s\n"
     ]
    }
   ],
   "source": [
    "%%time\n",
    "df_treated = order_dataframe(df)"
   ]
  }
 ],
 "metadata": {
  "kernelspec": {
   "display_name": "Python 3 (ipykernel)",
   "language": "python",
   "name": "python3"
  },
  "language_info": {
   "codemirror_mode": {
    "name": "ipython",
    "version": 3
   },
   "file_extension": ".py",
   "mimetype": "text/x-python",
   "name": "python",
   "nbconvert_exporter": "python",
   "pygments_lexer": "ipython3",
   "version": "3.8.3"
  }
 },
 "nbformat": 4,
 "nbformat_minor": 5
}
